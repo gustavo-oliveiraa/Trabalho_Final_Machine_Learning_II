{
 "cells": [
  {
   "cell_type": "markdown",
   "metadata": {
    "id": "9zIrgY_HLpuy"
   },
   "source": [
    "# *Pós-graduação em Ciência e Dados e Machine Learning*\n",
    "### *Trabalho Final - Machine Learning*\n",
    "\n",
    "**Disciplina:** Fundamentos de Machine Learning\n",
    "\n",
    "**Professor:** André Juan Costa Vieira\n",
    "\n",
    "**Turma:** A\n",
    "\n",
    "**Nomes dos Integrantes:** \n",
    "\n",
    "1- Gustavo Maxwel de Sousa Oliveira\n",
    "\n",
    "2-\n",
    "\n",
    "3-"
   ]
  },
  {
   "cell_type": "code",
   "execution_count": 66,
   "metadata": {
    "id": "9zIrgY_HLpuy"
   },
   "outputs": [],
   "source": [
    "from sklearn.preprocessing import StandardScaler\n",
    "from sklearn.decomposition import PCA\n",
    "import pandas as pd"
   ]
  },
  {
   "cell_type": "code",
   "execution_count": 67,
   "metadata": {
    "id": "9zIrgY_HLpuy"
   },
   "outputs": [],
   "source": [
    "wines = pd.read_csv(\"wines.csv\")\n",
    "wines_splines = pd.read_csv(\"wines_splines.csv\")"
   ]
  },
  {
   "cell_type": "code",
   "execution_count": 61,
   "metadata": {
    "id": "9zIrgY_HLpuy"
   },
   "outputs": [
    {
     "data": {
      "text/html": [
       "<div>\n",
       "<style scoped>\n",
       "    .dataframe tbody tr th:only-of-type {\n",
       "        vertical-align: middle;\n",
       "    }\n",
       "\n",
       "    .dataframe tbody tr th {\n",
       "        vertical-align: top;\n",
       "    }\n",
       "\n",
       "    .dataframe thead th {\n",
       "        text-align: right;\n",
       "    }\n",
       "</style>\n",
       "<table border=\"1\" class=\"dataframe\">\n",
       "  <thead>\n",
       "    <tr style=\"text-align: right;\">\n",
       "      <th></th>\n",
       "      <th>color</th>\n",
       "      <th>fixed acidity</th>\n",
       "      <th>volatile acidity</th>\n",
       "      <th>citric acid</th>\n",
       "      <th>residual sugar</th>\n",
       "      <th>chlorides</th>\n",
       "      <th>free sulfur dioxide</th>\n",
       "      <th>total sulfur dioxide</th>\n",
       "      <th>density</th>\n",
       "      <th>pH</th>\n",
       "      <th>sulphates</th>\n",
       "      <th>alcohol</th>\n",
       "      <th>quality</th>\n",
       "    </tr>\n",
       "  </thead>\n",
       "  <tbody>\n",
       "    <tr>\n",
       "      <th>0</th>\n",
       "      <td>white</td>\n",
       "      <td>6.6</td>\n",
       "      <td>0.42</td>\n",
       "      <td>0.33</td>\n",
       "      <td>2.8</td>\n",
       "      <td>0.034</td>\n",
       "      <td>15.0</td>\n",
       "      <td>85.0</td>\n",
       "      <td>0.99000</td>\n",
       "      <td>3.28</td>\n",
       "      <td>0.51</td>\n",
       "      <td>13.4</td>\n",
       "      <td>6</td>\n",
       "    </tr>\n",
       "    <tr>\n",
       "      <th>1</th>\n",
       "      <td>red</td>\n",
       "      <td>6.9</td>\n",
       "      <td>0.63</td>\n",
       "      <td>0.02</td>\n",
       "      <td>1.9</td>\n",
       "      <td>0.078</td>\n",
       "      <td>18.0</td>\n",
       "      <td>30.0</td>\n",
       "      <td>0.99712</td>\n",
       "      <td>3.40</td>\n",
       "      <td>0.75</td>\n",
       "      <td>9.8</td>\n",
       "      <td>5</td>\n",
       "    </tr>\n",
       "    <tr>\n",
       "      <th>2</th>\n",
       "      <td>white</td>\n",
       "      <td>6.9</td>\n",
       "      <td>0.36</td>\n",
       "      <td>0.34</td>\n",
       "      <td>4.2</td>\n",
       "      <td>0.018</td>\n",
       "      <td>57.0</td>\n",
       "      <td>119.0</td>\n",
       "      <td>0.98980</td>\n",
       "      <td>3.28</td>\n",
       "      <td>0.36</td>\n",
       "      <td>12.7</td>\n",
       "      <td>9</td>\n",
       "    </tr>\n",
       "    <tr>\n",
       "      <th>3</th>\n",
       "      <td>white</td>\n",
       "      <td>6.7</td>\n",
       "      <td>0.11</td>\n",
       "      <td>0.34</td>\n",
       "      <td>8.8</td>\n",
       "      <td>0.043</td>\n",
       "      <td>41.0</td>\n",
       "      <td>113.0</td>\n",
       "      <td>0.99620</td>\n",
       "      <td>3.42</td>\n",
       "      <td>0.40</td>\n",
       "      <td>9.3</td>\n",
       "      <td>7</td>\n",
       "    </tr>\n",
       "    <tr>\n",
       "      <th>4</th>\n",
       "      <td>white</td>\n",
       "      <td>7.1</td>\n",
       "      <td>0.20</td>\n",
       "      <td>0.34</td>\n",
       "      <td>16.0</td>\n",
       "      <td>0.050</td>\n",
       "      <td>51.0</td>\n",
       "      <td>166.0</td>\n",
       "      <td>0.99850</td>\n",
       "      <td>3.21</td>\n",
       "      <td>0.60</td>\n",
       "      <td>9.2</td>\n",
       "      <td>6</td>\n",
       "    </tr>\n",
       "  </tbody>\n",
       "</table>\n",
       "</div>"
      ],
      "text/plain": [
       "   color  fixed acidity  volatile acidity  citric acid  residual sugar  \\\n",
       "0  white            6.6              0.42         0.33             2.8   \n",
       "1    red            6.9              0.63         0.02             1.9   \n",
       "2  white            6.9              0.36         0.34             4.2   \n",
       "3  white            6.7              0.11         0.34             8.8   \n",
       "4  white            7.1              0.20         0.34            16.0   \n",
       "\n",
       "   chlorides  free sulfur dioxide  total sulfur dioxide  density    pH  \\\n",
       "0      0.034                 15.0                  85.0  0.99000  3.28   \n",
       "1      0.078                 18.0                  30.0  0.99712  3.40   \n",
       "2      0.018                 57.0                 119.0  0.98980  3.28   \n",
       "3      0.043                 41.0                 113.0  0.99620  3.42   \n",
       "4      0.050                 51.0                 166.0  0.99850  3.21   \n",
       "\n",
       "   sulphates  alcohol  quality  \n",
       "0       0.51     13.4        6  \n",
       "1       0.75      9.8        5  \n",
       "2       0.36     12.7        9  \n",
       "3       0.40      9.3        7  \n",
       "4       0.60      9.2        6  "
      ]
     },
     "execution_count": 61,
     "metadata": {},
     "output_type": "execute_result"
    }
   ],
   "source": [
    "wines.head()"
   ]
  },
  {
   "cell_type": "code",
   "execution_count": 62,
   "metadata": {
    "id": "9zIrgY_HLpuy"
   },
   "outputs": [
    {
     "name": "stdout",
     "output_type": "stream",
     "text": [
      "<class 'pandas.core.frame.DataFrame'>\n",
      "RangeIndex: 6497 entries, 0 to 6496\n",
      "Data columns (total 13 columns):\n",
      " #   Column                Non-Null Count  Dtype  \n",
      "---  ------                --------------  -----  \n",
      " 0   color                 6497 non-null   object \n",
      " 1   fixed acidity         6497 non-null   float64\n",
      " 2   volatile acidity      6497 non-null   float64\n",
      " 3   citric acid           6497 non-null   float64\n",
      " 4   residual sugar        6497 non-null   float64\n",
      " 5   chlorides             6497 non-null   float64\n",
      " 6   free sulfur dioxide   6497 non-null   float64\n",
      " 7   total sulfur dioxide  6497 non-null   float64\n",
      " 8   density               6497 non-null   float64\n",
      " 9   pH                    6497 non-null   float64\n",
      " 10  sulphates             6497 non-null   float64\n",
      " 11  alcohol               6497 non-null   float64\n",
      " 12  quality               6497 non-null   int64  \n",
      "dtypes: float64(11), int64(1), object(1)\n",
      "memory usage: 660.0+ KB\n"
     ]
    }
   ],
   "source": [
    "wines.info()"
   ]
  },
  {
   "cell_type": "code",
   "execution_count": 63,
   "metadata": {
    "id": "9zIrgY_HLpuy"
   },
   "outputs": [
    {
     "data": {
      "text/html": [
       "<div>\n",
       "<style scoped>\n",
       "    .dataframe tbody tr th:only-of-type {\n",
       "        vertical-align: middle;\n",
       "    }\n",
       "\n",
       "    .dataframe tbody tr th {\n",
       "        vertical-align: top;\n",
       "    }\n",
       "\n",
       "    .dataframe thead th {\n",
       "        text-align: right;\n",
       "    }\n",
       "</style>\n",
       "<table border=\"1\" class=\"dataframe\">\n",
       "  <thead>\n",
       "    <tr style=\"text-align: right;\">\n",
       "      <th></th>\n",
       "      <th>color</th>\n",
       "      <th>fixed acidity</th>\n",
       "      <th>volatile acidity</th>\n",
       "      <th>citric acid</th>\n",
       "      <th>residual sugar</th>\n",
       "      <th>chlorides</th>\n",
       "      <th>free sulfur dioxide</th>\n",
       "      <th>total sulfur dioxide</th>\n",
       "      <th>density</th>\n",
       "      <th>pH</th>\n",
       "      <th>...</th>\n",
       "      <th>spl_ln_sugar_4_3</th>\n",
       "      <th>spl_ln_sugar_4_4</th>\n",
       "      <th>spl_ln_sugar_4_5</th>\n",
       "      <th>spl_ln_sugar_4_6</th>\n",
       "      <th>spl_ln_sugar_4_7</th>\n",
       "      <th>spl_ln_sugar_4_8</th>\n",
       "      <th>spl_ln_sugar_4_9</th>\n",
       "      <th>spl_ln_sugar_4_10</th>\n",
       "      <th>spl_ln_sugar_4_11</th>\n",
       "      <th>spl_ln_sugar_4_12</th>\n",
       "    </tr>\n",
       "  </thead>\n",
       "  <tbody>\n",
       "    <tr>\n",
       "      <th>0</th>\n",
       "      <td>white</td>\n",
       "      <td>6.6</td>\n",
       "      <td>0.42</td>\n",
       "      <td>0.33</td>\n",
       "      <td>2.8</td>\n",
       "      <td>0.034</td>\n",
       "      <td>15.0</td>\n",
       "      <td>85.0</td>\n",
       "      <td>0.99000</td>\n",
       "      <td>3.28</td>\n",
       "      <td>...</td>\n",
       "      <td>0.000000</td>\n",
       "      <td>0.0</td>\n",
       "      <td>0.0</td>\n",
       "      <td>0.0</td>\n",
       "      <td>0.0</td>\n",
       "      <td>0.0</td>\n",
       "      <td>0.0</td>\n",
       "      <td>0.0</td>\n",
       "      <td>0.0</td>\n",
       "      <td>0.0</td>\n",
       "    </tr>\n",
       "    <tr>\n",
       "      <th>1</th>\n",
       "      <td>red</td>\n",
       "      <td>6.9</td>\n",
       "      <td>0.63</td>\n",
       "      <td>0.02</td>\n",
       "      <td>1.9</td>\n",
       "      <td>0.078</td>\n",
       "      <td>18.0</td>\n",
       "      <td>30.0</td>\n",
       "      <td>0.99712</td>\n",
       "      <td>3.40</td>\n",
       "      <td>...</td>\n",
       "      <td>0.000000</td>\n",
       "      <td>0.0</td>\n",
       "      <td>0.0</td>\n",
       "      <td>0.0</td>\n",
       "      <td>0.0</td>\n",
       "      <td>0.0</td>\n",
       "      <td>0.0</td>\n",
       "      <td>0.0</td>\n",
       "      <td>0.0</td>\n",
       "      <td>0.0</td>\n",
       "    </tr>\n",
       "    <tr>\n",
       "      <th>2</th>\n",
       "      <td>white</td>\n",
       "      <td>6.9</td>\n",
       "      <td>0.36</td>\n",
       "      <td>0.34</td>\n",
       "      <td>4.2</td>\n",
       "      <td>0.018</td>\n",
       "      <td>57.0</td>\n",
       "      <td>119.0</td>\n",
       "      <td>0.98980</td>\n",
       "      <td>3.28</td>\n",
       "      <td>...</td>\n",
       "      <td>0.000000</td>\n",
       "      <td>0.0</td>\n",
       "      <td>0.0</td>\n",
       "      <td>0.0</td>\n",
       "      <td>0.0</td>\n",
       "      <td>0.0</td>\n",
       "      <td>0.0</td>\n",
       "      <td>0.0</td>\n",
       "      <td>0.0</td>\n",
       "      <td>0.0</td>\n",
       "    </tr>\n",
       "    <tr>\n",
       "      <th>3</th>\n",
       "      <td>white</td>\n",
       "      <td>6.7</td>\n",
       "      <td>0.11</td>\n",
       "      <td>0.34</td>\n",
       "      <td>8.8</td>\n",
       "      <td>0.043</td>\n",
       "      <td>41.0</td>\n",
       "      <td>113.0</td>\n",
       "      <td>0.99620</td>\n",
       "      <td>3.42</td>\n",
       "      <td>...</td>\n",
       "      <td>0.000000</td>\n",
       "      <td>0.0</td>\n",
       "      <td>0.0</td>\n",
       "      <td>0.0</td>\n",
       "      <td>0.0</td>\n",
       "      <td>0.0</td>\n",
       "      <td>0.0</td>\n",
       "      <td>0.0</td>\n",
       "      <td>0.0</td>\n",
       "      <td>0.0</td>\n",
       "    </tr>\n",
       "    <tr>\n",
       "      <th>4</th>\n",
       "      <td>white</td>\n",
       "      <td>7.1</td>\n",
       "      <td>0.20</td>\n",
       "      <td>0.34</td>\n",
       "      <td>16.0</td>\n",
       "      <td>0.050</td>\n",
       "      <td>51.0</td>\n",
       "      <td>166.0</td>\n",
       "      <td>0.99850</td>\n",
       "      <td>3.21</td>\n",
       "      <td>...</td>\n",
       "      <td>59.093785</td>\n",
       "      <td>0.0</td>\n",
       "      <td>0.0</td>\n",
       "      <td>0.0</td>\n",
       "      <td>0.0</td>\n",
       "      <td>0.0</td>\n",
       "      <td>0.0</td>\n",
       "      <td>0.0</td>\n",
       "      <td>0.0</td>\n",
       "      <td>0.0</td>\n",
       "    </tr>\n",
       "  </tbody>\n",
       "</table>\n",
       "<p>5 rows × 57 columns</p>\n",
       "</div>"
      ],
      "text/plain": [
       "   color  fixed acidity  volatile acidity  citric acid  residual sugar  \\\n",
       "0  white            6.6              0.42         0.33             2.8   \n",
       "1    red            6.9              0.63         0.02             1.9   \n",
       "2  white            6.9              0.36         0.34             4.2   \n",
       "3  white            6.7              0.11         0.34             8.8   \n",
       "4  white            7.1              0.20         0.34            16.0   \n",
       "\n",
       "   chlorides  free sulfur dioxide  total sulfur dioxide  density    pH  ...  \\\n",
       "0      0.034                 15.0                  85.0  0.99000  3.28  ...   \n",
       "1      0.078                 18.0                  30.0  0.99712  3.40  ...   \n",
       "2      0.018                 57.0                 119.0  0.98980  3.28  ...   \n",
       "3      0.043                 41.0                 113.0  0.99620  3.42  ...   \n",
       "4      0.050                 51.0                 166.0  0.99850  3.21  ...   \n",
       "\n",
       "   spl_ln_sugar_4_3  spl_ln_sugar_4_4  spl_ln_sugar_4_5  spl_ln_sugar_4_6  \\\n",
       "0          0.000000               0.0               0.0               0.0   \n",
       "1          0.000000               0.0               0.0               0.0   \n",
       "2          0.000000               0.0               0.0               0.0   \n",
       "3          0.000000               0.0               0.0               0.0   \n",
       "4         59.093785               0.0               0.0               0.0   \n",
       "\n",
       "   spl_ln_sugar_4_7  spl_ln_sugar_4_8  spl_ln_sugar_4_9  spl_ln_sugar_4_10  \\\n",
       "0               0.0               0.0               0.0                0.0   \n",
       "1               0.0               0.0               0.0                0.0   \n",
       "2               0.0               0.0               0.0                0.0   \n",
       "3               0.0               0.0               0.0                0.0   \n",
       "4               0.0               0.0               0.0                0.0   \n",
       "\n",
       "   spl_ln_sugar_4_11  spl_ln_sugar_4_12  \n",
       "0                0.0                0.0  \n",
       "1                0.0                0.0  \n",
       "2                0.0                0.0  \n",
       "3                0.0                0.0  \n",
       "4                0.0                0.0  \n",
       "\n",
       "[5 rows x 57 columns]"
      ]
     },
     "execution_count": 63,
     "metadata": {},
     "output_type": "execute_result"
    }
   ],
   "source": [
    "wines_splines.head()"
   ]
  },
  {
   "cell_type": "code",
   "execution_count": 64,
   "metadata": {
    "id": "9zIrgY_HLpuy"
   },
   "outputs": [
    {
     "name": "stdout",
     "output_type": "stream",
     "text": [
      "<class 'pandas.core.frame.DataFrame'>\n",
      "RangeIndex: 6497 entries, 0 to 6496\n",
      "Data columns (total 57 columns):\n",
      " #   Column                Non-Null Count  Dtype  \n",
      "---  ------                --------------  -----  \n",
      " 0   color                 6497 non-null   object \n",
      " 1   fixed acidity         6497 non-null   float64\n",
      " 2   volatile acidity      6497 non-null   float64\n",
      " 3   citric acid           6497 non-null   float64\n",
      " 4   residual sugar        6497 non-null   float64\n",
      " 5   chlorides             6497 non-null   float64\n",
      " 6   free sulfur dioxide   6497 non-null   float64\n",
      " 7   total sulfur dioxide  6497 non-null   float64\n",
      " 8   density               6497 non-null   float64\n",
      " 9   pH                    6497 non-null   float64\n",
      " 10  sulphates             6497 non-null   float64\n",
      " 11  alcohol               6497 non-null   float64\n",
      " 12  quality               6497 non-null   int64  \n",
      " 13  categ                 6497 non-null   int64  \n",
      " 14  ln_sugar_1            6497 non-null   float64\n",
      " 15  ln_sugar_2            6497 non-null   float64\n",
      " 16  ln_sugar_3            6497 non-null   float64\n",
      " 17  ln_sugar_4            6497 non-null   float64\n",
      " 18  spl_ln_sugar_2_0      6497 non-null   float64\n",
      " 19  spl_ln_sugar_2_1      6497 non-null   float64\n",
      " 20  spl_ln_sugar_2_2      6497 non-null   float64\n",
      " 21  spl_ln_sugar_2_3      6497 non-null   float64\n",
      " 22  spl_ln_sugar_2_4      6497 non-null   float64\n",
      " 23  spl_ln_sugar_2_5      6497 non-null   float64\n",
      " 24  spl_ln_sugar_2_6      6497 non-null   float64\n",
      " 25  spl_ln_sugar_2_7      6497 non-null   float64\n",
      " 26  spl_ln_sugar_2_8      6497 non-null   float64\n",
      " 27  spl_ln_sugar_2_9      6497 non-null   float64\n",
      " 28  spl_ln_sugar_2_10     6497 non-null   float64\n",
      " 29  spl_ln_sugar_2_11     6497 non-null   float64\n",
      " 30  spl_ln_sugar_2_12     6497 non-null   float64\n",
      " 31  spl_ln_sugar_3_0      6497 non-null   float64\n",
      " 32  spl_ln_sugar_3_1      6497 non-null   float64\n",
      " 33  spl_ln_sugar_3_2      6497 non-null   float64\n",
      " 34  spl_ln_sugar_3_3      6497 non-null   float64\n",
      " 35  spl_ln_sugar_3_4      6497 non-null   float64\n",
      " 36  spl_ln_sugar_3_5      6497 non-null   float64\n",
      " 37  spl_ln_sugar_3_6      6497 non-null   float64\n",
      " 38  spl_ln_sugar_3_7      6497 non-null   float64\n",
      " 39  spl_ln_sugar_3_8      6497 non-null   float64\n",
      " 40  spl_ln_sugar_3_9      6497 non-null   float64\n",
      " 41  spl_ln_sugar_3_10     6497 non-null   float64\n",
      " 42  spl_ln_sugar_3_11     6497 non-null   float64\n",
      " 43  spl_ln_sugar_3_12     6497 non-null   float64\n",
      " 44  spl_ln_sugar_4_0      6497 non-null   float64\n",
      " 45  spl_ln_sugar_4_1      6497 non-null   float64\n",
      " 46  spl_ln_sugar_4_2      6497 non-null   float64\n",
      " 47  spl_ln_sugar_4_3      6497 non-null   float64\n",
      " 48  spl_ln_sugar_4_4      6497 non-null   float64\n",
      " 49  spl_ln_sugar_4_5      6497 non-null   float64\n",
      " 50  spl_ln_sugar_4_6      6497 non-null   float64\n",
      " 51  spl_ln_sugar_4_7      6497 non-null   float64\n",
      " 52  spl_ln_sugar_4_8      6497 non-null   float64\n",
      " 53  spl_ln_sugar_4_9      6497 non-null   float64\n",
      " 54  spl_ln_sugar_4_10     6497 non-null   float64\n",
      " 55  spl_ln_sugar_4_11     6497 non-null   float64\n",
      " 56  spl_ln_sugar_4_12     6497 non-null   float64\n",
      "dtypes: float64(54), int64(2), object(1)\n",
      "memory usage: 2.8+ MB\n"
     ]
    }
   ],
   "source": [
    "wines_splines.info()"
   ]
  },
  {
   "cell_type": "markdown",
   "metadata": {},
   "source": [
    "### Modelos não Supervisionados"
   ]
  },
  {
   "cell_type": "markdown",
   "metadata": {},
   "source": [
    "**Utilize o dataset 'wines.csv' e 'wines_splines.csv'**\n",
    "\n",
    "Chuck Norris tem um amigo famoso no mundo da ciência de dados, seu nome é Rocky Balboa. Em uma conversa sobre alguns métodos que podem ser utilizados para criar novos vetores (_features engineering_), o Sr.Rocky propôs que fossem utilizados Splines. Completamente emocionado com a ideia, Chuck decidiu aplicar esta técnica utilizando até a oitava potência. \n",
    "\n",
    "Ele pediu a você que fizesse um estudo comparativo utilizando o PCA. O intuito é analisar se a redução de dimensionalidade pode ser vantajosa para o dataset original e o dataset com Splines. \n",
    "\n",
    "1- Compare a variância explicada de cada um dos datasets\n",
    "\n",
    "2- Explique porque o PCA seria, ou não uma boa abordagem para o dataset com Splines. Ademais, discorra sobre a influência de ruídos.\n",
    "\n",
    "3- Utilize um loop \"for\" e crie uma condição para que, quando a variância for maior do que 0.92, seja retornado o número de features totais, faça para ambos datasets.\n",
    "\n",
    "4- Qual seria o método mais indicado para redução de dimensionalidade nesse caso? "
   ]
  },
  {
   "cell_type": "markdown",
   "metadata": {
    "id": "9zIrgY_HLpuy"
   },
   "source": [
    "### 1) Comparando a variância explicada de cada dataset"
   ]
  },
  {
   "cell_type": "markdown",
   "metadata": {
    "id": "9zIrgY_HLpuy"
   },
   "source": [
    "A variância explicada indica quanto da informação (ou dispersão) dos dados originais é preservada após a projeção em componentes principais."
   ]
  },
  {
   "cell_type": "code",
   "execution_count": 68,
   "metadata": {},
   "outputs": [
    {
     "data": {
      "image/png": "[encoded data removed]",
      "text/plain": [
       "<Figure size 640x480 with 1 Axes>"
      ]
     },
     "metadata": {},
     "output_type": "display_data"
    }
   ],
   "source": [
    "X1 = wines.drop(columns=['color'])\n",
    "X2 = wines_splines.drop(columns=['color'])\n",
    "\n",
    "scaler = StandardScaler()\n",
    "X1_scaled = scaler.fit_transform(X1)\n",
    "X2_scaled = scaler.fit_transform(X2)\n",
    "\n",
    "# PCA\n",
    "pca1 = PCA().fit(X1_scaled)\n",
    "pca2 = PCA().fit(X2_scaled)\n",
    "\n",
    "# Variância explicada acumulada\n",
    "var_exp1 = pca1.explained_variance_ratio_.cumsum()\n",
    "var_exp2 = pca2.explained_variance_ratio_.cumsum()\n",
    "\n",
    "# Comparação gráfica (opcional)\n",
    "import matplotlib.pyplot as plt\n",
    "plt.plot(var_exp1, label='wines')\n",
    "plt.plot(var_exp2, label='wines_splines')\n",
    "plt.xlabel('Número de Componentes')\n",
    "plt.ylabel('Variância Explicada Acumulada')\n",
    "plt.legend()\n",
    "plt.show()"
   ]
  },
  {
   "cell_type": "markdown",
   "metadata": {},
   "source": [
    "### 2) Por que o PCA pode ser bom ou ruim para o dataset com Splines (e o papel do ruído)"
   ]
  },
  {
   "cell_type": "markdown",
   "metadata": {},
   "source": [
    "O PCA é um método linear — ele busca combinações lineares das variáveis que maximizem a variância. Isso funciona bem quando as relações entre variáveis são essencialmente lineares.\n",
    "\n",
    "Agora, Splines são o oposto: eles introduzem não linearidades (curvaturas) e aumentam drasticamente o número de variáveis correlacionadas entre si.\n",
    "O resultado prático:\n",
    "\n",
    "O PCA pode capturar redundâncias, mas tende a misturar ruído com informação, pois os Splines geram muitas features com pequenas variações.\n",
    "\n",
    "A primeira componente talvez explique muito pouco, e serão necessárias muitas componentes para atingir a mesma variância acumulada do dataset original.\n",
    "\n",
    "Ruído amplifica esse problema.\n",
    "Quando adicionamos polinômios ou splines até altas potências (como a oitava), pequenas variações nos dados originais são elevadas ao cubo, quarta... oitava!, tornando-se flutuações gigantescas.\n",
    "O PCA não sabe distinguir se essa variância é informação ou ruído — ele apenas “ama” variância.\n",
    "\n",
    "Em resumo:\n",
    "\n",
    "Dataset original → PCA é eficiente.\n",
    "\n",
    "Dataset com Splines → PCA tende a perder eficiência e gerar projeções com ruído embutido."
   ]
  },
  {
   "cell_type": "markdown",
   "metadata": {},
   "source": [
    "### 3) Loop para encontrar o número de componentes com variância > 0.92"
   ]
  },
  {
   "cell_type": "code",
   "execution_count": 70,
   "metadata": {},
   "outputs": [
    {
     "name": "stdout",
     "output_type": "stream",
     "text": [
      "wines: 9 componentes necessários para explicar 92% da variância.\n",
      "wines_splines: 12 componentes necessários para explicar 92% da variância.\n"
     ]
    }
   ],
   "source": [
    "for name, var_exp in zip(['wines', 'wines_splines'], [var_exp1, var_exp2]):\n",
    "    for i, v in enumerate(var_exp):\n",
    "        if v >= 0.92:\n",
    "            print(f\"{name}: {i+1} componentes necessários para explicar 92% da variância.\")\n",
    "            break"
   ]
  },
  {
   "cell_type": "markdown",
   "metadata": {},
   "source": [
    "### 4) Método mais indicado para redução de dimensionalidade nesse caso"
   ]
  },
  {
   "cell_type": "markdown",
   "metadata": {},
   "source": [
    "Como o dataset com Splines contém relações altamente não lineares, o PCA (linear) não é o herói ideal. Métodos mais apropriados incluem:\n",
    "\n",
    "Kernel PCA → usa funções kernel (como RBF) para capturar relações não lineares.\n",
    "\n",
    "t-SNE → ótimo para visualização em 2D, mas não ideal para modelagem.\n",
    "\n",
    "UMAP → muito eficiente, preserva tanto estrutura local quanto global.\n",
    "\n",
    "Autoencoders (redes neurais) → capturam não linearidades complexas sem precisar de engenharia manual.\n",
    "\n",
    "Em termos simples:\n",
    "PCA é como usar uma régua para medir curvas — funciona, mas distorce. Métodos não lineares como Kernel PCA e UMAP são fitas flexíveis: se adaptam às curvas criadas pelos Splines.\n",
    "\n",
    "Em síntese:\n",
    "\n",
    "O PCA mostra-se eficiente no dataset original.\n",
    "\n",
    "No dataset com Splines, ele sofre com alta dimensionalidade e ruído.\n",
    "\n",
    "A variância explicada cresce mais lentamente com Splines.\n",
    "\n",
    "Métodos não lineares são mais adequados para capturar a estrutura real desses dados."
   ]
  },
  {
   "cell_type": "markdown",
   "metadata": {},
   "source": [
    "**Utilize o dataset 'wines.csv'**\n",
    "\n",
    "Uma ideia realmente interessante é a clusterização. Por vezes, podemos nos espantar com certos resultados. Aqui, você deve utilizar o dataset original e separar cada nota em um cluster. \n",
    "\n",
    "1- Validar os resultados do algoritmo Kmeans com o dataset original\n",
    "\n",
    "2- Aplicar o método do Cotovelo e averiguar se o número de clusters apontados são iguais ao número de cluster que você tem de usar.\n",
    "\n",
    "3- Utilizar o método da Silhueta e averiguar se o número de clusters apontados são iguais ao número de cluster que você tem de usar.\n",
    "\n",
    "4- Explique os principais conceitos dos métodos das questões 2 e 3."
   ]
  },
  {
   "cell_type": "markdown",
   "metadata": {},
   "source": [
    "### 1) Validar os resultados do K-Means com o dataset original"
   ]
  },
  {
   "cell_type": "code",
   "execution_count": 71,
   "metadata": {},
   "outputs": [],
   "source": [
    "from sklearn.cluster import KMeans\n",
    "from sklearn.metrics import confusion_matrix, adjusted_rand_score"
   ]
  },
  {
   "cell_type": "code",
   "execution_count": 72,
   "metadata": {},
   "outputs": [],
   "source": [
    "df = pd.read_csv('wines.csv')\n",
    "\n",
    "X = df.select_dtypes(include=['float64', 'int64']).drop(columns=['quality'])"
   ]
  },
  {
   "cell_type": "code",
   "execution_count": 73,
   "metadata": {},
   "outputs": [],
   "source": [
    "scaler = StandardScaler()\n",
    "X_scaled = scaler.fit_transform(X)\n",
    "\n",
    "n_clusters = df['quality'].nunique()"
   ]
  },
  {
   "cell_type": "code",
   "execution_count": 74,
   "metadata": {},
   "outputs": [
    {
     "name": "stdout",
     "output_type": "stream",
     "text": [
      "Adjusted Rand Index: 0.02309174057521027\n"
     ]
    }
   ],
   "source": [
    "kmeans = KMeans(n_clusters=n_clusters, random_state=42, n_init=10)\n",
    "labels = kmeans.fit_predict(X_scaled)\n",
    "\n",
    "print(\"Adjusted Rand Index:\", adjusted_rand_score(df['quality'], labels))"
   ]
  },
  {
   "cell_type": "code",
   "execution_count": 75,
   "metadata": {},
   "outputs": [
    {
     "name": "stdout",
     "output_type": "stream",
     "text": [
      "cluster\n",
      "0    5.403621\n",
      "1    5.562842\n",
      "2    6.284735\n",
      "3    5.740642\n",
      "4    5.380952\n",
      "5    5.783117\n",
      "6    5.869767\n",
      "Name: quality, dtype: float64\n"
     ]
    }
   ],
   "source": [
    "df['cluster'] = labels\n",
    "print(df.groupby('cluster')['quality'].mean())"
   ]
  },
  {
   "cell_type": "markdown",
   "metadata": {},
   "source": [
    "### 2) Método do Cotovelo (Elbow Method)"
   ]
  },
  {
   "cell_type": "code",
   "execution_count": 76,
   "metadata": {},
   "outputs": [],
   "source": [
    "import matplotlib.pyplot as plt"
   ]
  },
  {
   "cell_type": "code",
   "execution_count": 77,
   "metadata": {},
   "outputs": [],
   "source": [
    "inertias = []\n",
    "K = range(1, 11)\n",
    "for k in K:\n",
    "    kmeans = KMeans(n_clusters=k, random_state=42, n_init=10)\n",
    "    kmeans.fit(X_scaled)\n",
    "    inertias.append(kmeans.inertia_)"
   ]
  },
  {
   "cell_type": "code",
   "execution_count": 78,
   "metadata": {},
   "outputs": [
    {
     "data": {
      "image/png": "[encoded data removed]",
      "text/plain": [
       "<Figure size 640x480 with 1 Axes>"
      ]
     },
     "metadata": {},
     "output_type": "display_data"
    }
   ],
   "source": [
    "plt.plot(K, inertias, 'bo-')\n",
    "plt.xlabel('Número de Clusters')\n",
    "plt.ylabel('Inércia')\n",
    "plt.title('Método do Cotovelo')\n",
    "plt.show()"
   ]
  },
  {
   "cell_type": "markdown",
   "metadata": {},
   "source": [
    "### 3) Método da Silhueta"
   ]
  },
  {
   "cell_type": "code",
   "execution_count": 79,
   "metadata": {},
   "outputs": [],
   "source": [
    "from sklearn.metrics import silhouette_score"
   ]
  },
  {
   "cell_type": "code",
   "execution_count": 80,
   "metadata": {},
   "outputs": [],
   "source": [
    "silhouette_scores = []\n",
    "K = range(2, 11)\n",
    "for k in K:\n",
    "    kmeans = KMeans(n_clusters=k, random_state=42, n_init=10)\n",
    "    labels = kmeans.fit_predict(X_scaled)\n",
    "    score = silhouette_score(X_scaled, labels)\n",
    "    silhouette_scores.append(score)"
   ]
  },
  {
   "cell_type": "code",
   "execution_count": 83,
   "metadata": {},
   "outputs": [
    {
     "data": {
      "image/png": "[encoded data removed]",
      "text/plain": [
       "<Figure size 640x480 with 1 Axes>"
      ]
     },
     "metadata": {},
     "output_type": "display_data"
    }
   ],
   "source": [
    "plt.plot(K, silhouette_scores, 'bo-')\n",
    "plt.xlabel('Número de Clusters')\n",
    "plt.ylabel('Pontuação da Silhueta')\n",
    "plt.title('Método da Silhueta')\n",
    "plt.show()"
   ]
  },
  {
   "cell_type": "code",
   "execution_count": 82,
   "metadata": {},
   "outputs": [
    {
     "data": {
      "text/plain": [
       "7"
      ]
     },
     "execution_count": 82,
     "metadata": {},
     "output_type": "execute_result"
    }
   ],
   "source": [
    "df[\"quality\"].nunique()"
   ]
  },
  {
   "cell_type": "markdown",
   "metadata": {},
   "source": [
    "### 4) Conceitos principais dos métodos"
   ]
  },
  {
   "cell_type": "markdown",
   "metadata": {},
   "source": [
    "Método do Cotovelo\n",
    "É baseado na inércia, que mede o quão compactos estão os clusters. Cada ponto é comparado com o centróide do seu grupo, e a soma dessas distâncias forma a inércia total.\n",
    "À medida que você adiciona mais clusters, a inércia diminui, mas em algum ponto a redução se estabiliza — o “cotovelo” é onde adicionar mais clusters não traz ganhos relevantes.\n",
    "\n",
    "Método da Silhueta\n",
    "Avalia o quão bem cada ponto está inserido em seu cluster em comparação com os demais.\n",
    "É uma métrica mais geométrica e interpretável, pois considera tanto coerência interna quanto separação entre clusters.\n",
    "Ela é especialmente útil quando não se sabe o número de grupos a priori.\n",
    "\n",
    "Em resumo:\n",
    "\n",
    "O K-Means agrupa amostras com base em distâncias.\n",
    "\n",
    "O método do cotovelo verifica o ponto onde mais clusters não valem o custo.\n",
    "\n",
    "O método da silhueta indica onde os grupos são mais bem definidos.\n",
    "\n",
    "Se ambos sugerirem o mesmo número que as notas de quality, há uma estrutura coerente entre os dados e a avaliação humana.\n",
    "Se não, Chuck Norris acabou de provar que os críticos de vinho não sabem o que estão fazendo."
   ]
  },
  {
   "cell_type": "code",
   "execution_count": 84,
   "metadata": {},
   "outputs": [
    {
     "name": "stdout",
     "output_type": "stream",
     "text": [
      "Número de notas de qualidade (clusters esperados): 7\n",
      "Adjusted Rand Index (ARI): 0.0231\n",
      "\n",
      "Qualidade média em cada cluster encontrado:\n",
      "cluster\n",
      "0    5.403621\n",
      "1    5.562842\n",
      "2    6.284735\n",
      "3    5.740642\n",
      "4    5.380952\n",
      "5    5.783117\n",
      "6    5.869767\n",
      "Name: quality, dtype: float64\n"
     ]
    },
    {
     "data": {
      "image/png": "[encoded data removed]",
      "text/plain": [
       "<Figure size 600x400 with 1 Axes>"
      ]
     },
     "metadata": {},
     "output_type": "display_data"
    },
    {
     "data": {
      "image/png": "[encoded data removed]",
      "text/plain": [
       "<Figure size 600x400 with 1 Axes>"
      ]
     },
     "metadata": {},
     "output_type": "display_data"
    },
    {
     "name": "stdout",
     "output_type": "stream",
     "text": [
      "Número ótimo de clusters pelo método da Silhueta: 2\n"
     ]
    }
   ],
   "source": [
    "import pandas as pd\n",
    "import matplotlib.pyplot as plt\n",
    "from sklearn.preprocessing import StandardScaler\n",
    "from sklearn.cluster import KMeans\n",
    "from sklearn.metrics import silhouette_score, adjusted_rand_score\n",
    "\n",
    "# --- 1. CARREGAR E PREPARAR OS DADOS ---\n",
    "df = pd.read_csv('wines.csv')\n",
    "\n",
    "# Selecionar apenas colunas numéricas (sem 'color' e sem 'quality')\n",
    "X = df.select_dtypes(include=['float64', 'int64']).drop(columns=['quality'])\n",
    "\n",
    "# Padronização (essencial para K-Means)\n",
    "scaler = StandardScaler()\n",
    "X_scaled = scaler.fit_transform(X)\n",
    "\n",
    "# Número de clusters baseado nas notas de qualidade\n",
    "n_clusters = df['quality'].nunique()\n",
    "print(f\"Número de notas de qualidade (clusters esperados): {n_clusters}\")\n",
    "\n",
    "# --- 2. K-MEANS E VALIDAÇÃO ---\n",
    "kmeans = KMeans(n_clusters=n_clusters, random_state=42, n_init=10)\n",
    "labels = kmeans.fit_predict(X_scaled)\n",
    "\n",
    "# ARI - mede similaridade entre clusters encontrados e as classes reais\n",
    "ari = adjusted_rand_score(df['quality'], labels)\n",
    "print(f\"Adjusted Rand Index (ARI): {ari:.4f}\")\n",
    "\n",
    "# Qualidade média por cluster encontrado\n",
    "df['cluster'] = labels\n",
    "print(\"\\nQualidade média em cada cluster encontrado:\")\n",
    "print(df.groupby('cluster')['quality'].mean())\n",
    "\n",
    "# --- 3. MÉTODO DO COTOVELO ---\n",
    "inertias = []\n",
    "K = range(1, 11)\n",
    "\n",
    "for k in K:\n",
    "    kmeans = KMeans(n_clusters=k, random_state=42, n_init=10)\n",
    "    kmeans.fit(X_scaled)\n",
    "    inertias.append(kmeans.inertia_)\n",
    "\n",
    "plt.figure(figsize=(6,4))\n",
    "plt.plot(K, inertias, 'bo-')\n",
    "plt.xlabel('Número de Clusters')\n",
    "plt.ylabel('Inércia')\n",
    "plt.title('Método do Cotovelo')\n",
    "plt.grid(True)\n",
    "plt.show()\n",
    "\n",
    "# --- 4. MÉTODO DA SILHUETA ---\n",
    "silhouette_scores = []\n",
    "K = range(2, 11)\n",
    "\n",
    "for k in K:\n",
    "    kmeans = KMeans(n_clusters=k, random_state=42, n_init=10)\n",
    "    labels = kmeans.fit_predict(X_scaled)\n",
    "    score = silhouette_score(X_scaled, labels)\n",
    "    silhouette_scores.append(score)\n",
    "\n",
    "plt.figure(figsize=(6,4))\n",
    "plt.plot(K, silhouette_scores, 'bo-')\n",
    "plt.xlabel('Número de Clusters')\n",
    "plt.ylabel('Pontuação da Silhueta')\n",
    "plt.title('Método da Silhueta')\n",
    "plt.grid(True)\n",
    "plt.show()\n",
    "\n",
    "# Mostrar o número ótimo segundo a silhueta\n",
    "best_k_silhouette = K[silhouette_scores.index(max(silhouette_scores))]\n",
    "print(f\"Número ótimo de clusters pelo método da Silhueta: {best_k_silhouette}\")\n"
   ]
  },
  {
   "cell_type": "code",
   "execution_count": 85,
   "metadata": {},
   "outputs": [
    {
     "data": {
      "text/html": [
       "<div>\n",
       "<style scoped>\n",
       "    .dataframe tbody tr th:only-of-type {\n",
       "        vertical-align: middle;\n",
       "    }\n",
       "\n",
       "    .dataframe tbody tr th {\n",
       "        vertical-align: top;\n",
       "    }\n",
       "\n",
       "    .dataframe thead th {\n",
       "        text-align: right;\n",
       "    }\n",
       "</style>\n",
       "<table border=\"1\" class=\"dataframe\">\n",
       "  <thead>\n",
       "    <tr style=\"text-align: right;\">\n",
       "      <th></th>\n",
       "      <th>H</th>\n",
       "      <th>M</th>\n",
       "      <th>S</th>\n",
       "      <th>Nome</th>\n",
       "      <th>Maquina</th>\n",
       "      <th>IP</th>\n",
       "    </tr>\n",
       "  </thead>\n",
       "  <tbody>\n",
       "    <tr>\n",
       "      <th>0</th>\n",
       "      <td>16</td>\n",
       "      <td>29</td>\n",
       "      <td>4</td>\n",
       "      <td>theteacher@empresax.COM.BR</td>\n",
       "      <td>empresaxLAB02$</td>\n",
       "      <td>192.168.100.57</td>\n",
       "    </tr>\n",
       "    <tr>\n",
       "      <th>1</th>\n",
       "      <td>14</td>\n",
       "      <td>12</td>\n",
       "      <td>4</td>\n",
       "      <td>pogó@empresax.COM.BR</td>\n",
       "      <td>empresaxLAB05$</td>\n",
       "      <td>192.168.100.66</td>\n",
       "    </tr>\n",
       "    <tr>\n",
       "      <th>2</th>\n",
       "      <td>12</td>\n",
       "      <td>55</td>\n",
       "      <td>4</td>\n",
       "      <td>jinx@empresax.COM.BR</td>\n",
       "      <td>empresaxLAB03$</td>\n",
       "      <td>192.168.100.60</td>\n",
       "    </tr>\n",
       "    <tr>\n",
       "      <th>3</th>\n",
       "      <td>18</td>\n",
       "      <td>22</td>\n",
       "      <td>4</td>\n",
       "      <td>kael-el@empresax.COM.BR</td>\n",
       "      <td>empresaxWKSLEN02$</td>\n",
       "      <td>192.168.100.55</td>\n",
       "    </tr>\n",
       "    <tr>\n",
       "      <th>4</th>\n",
       "      <td>12</td>\n",
       "      <td>3</td>\n",
       "      <td>4</td>\n",
       "      <td>maryjane@empresax.COM.BR</td>\n",
       "      <td>empresaxLAB04$</td>\n",
       "      <td>192.168.100.58</td>\n",
       "    </tr>\n",
       "  </tbody>\n",
       "</table>\n",
       "</div>"
      ],
      "text/plain": [
       "    H   M  S                        Nome            Maquina              IP\n",
       "0  16  29  4  theteacher@empresax.COM.BR     empresaxLAB02$  192.168.100.57\n",
       "1  14  12  4        pogó@empresax.COM.BR     empresaxLAB05$  192.168.100.66\n",
       "2  12  55  4        jinx@empresax.COM.BR     empresaxLAB03$  192.168.100.60\n",
       "3  18  22  4     kael-el@empresax.COM.BR  empresaxWKSLEN02$  192.168.100.55\n",
       "4  12   3  4    maryjane@empresax.COM.BR     empresaxLAB04$  192.168.100.58"
      ]
     },
     "execution_count": 85,
     "metadata": {},
     "output_type": "execute_result"
    }
   ],
   "source": [
    "df = pd.read_excel(\"logs_firewall.xlsx\")\n",
    "df.head()"
   ]
  },
  {
   "cell_type": "code",
   "execution_count": 86,
   "metadata": {},
   "outputs": [
    {
     "name": "stdout",
     "output_type": "stream",
     "text": [
      "<class 'pandas.core.frame.DataFrame'>\n",
      "RangeIndex: 1102 entries, 0 to 1101\n",
      "Data columns (total 6 columns):\n",
      " #   Column   Non-Null Count  Dtype \n",
      "---  ------   --------------  ----- \n",
      " 0   H        1102 non-null   int64 \n",
      " 1   M        1102 non-null   int64 \n",
      " 2   S        1102 non-null   int64 \n",
      " 3   Nome     1102 non-null   object\n",
      " 4   Maquina  1102 non-null   object\n",
      " 5   IP       1102 non-null   object\n",
      "dtypes: int64(3), object(3)\n",
      "memory usage: 51.8+ KB\n"
     ]
    }
   ],
   "source": [
    "df.info()"
   ]
  },
  {
   "cell_type": "markdown",
   "metadata": {},
   "source": [
    "**Utilize o dataset 'logs_firewall.xlsx'**\n",
    "\n",
    "A Università di Bologna tem cursos de graduação e pós graduação em enologia. Os grandes enólogos do mundo são os únicos que podem fazer o doutorado nesta renomada universidade. Esta instituição tem um contrato milionário com o Sr.Donald, onde todos os alunos poderiam comparecer uma semana a cada três meses para estudar as características, mecânicas de plantações, tecnologias, processos de confecção dos vinhos, entre outras matérias. Todos os professores, escanções extremamente bem conceituados, sempre estão presentes. \n",
    "\n",
    "Caso infortúnio, O Sr.Hafþór Júlíus Björnsson, mais conhecido como \"o Montanha\", chefe de segurança cibernética da empresa apertou o botão DEFCON-1 ao perceber que os servidores tinham sido 'hackeados'. Momento em que notou que os bancos de dados que continham as notas dos vinhos haviam sido alterados/deletados e o backup infectado por um Ransomware chamado \"HUE HUE HUE BR\". Aparentemente, os black-hats conseguiram alterar de 5% a 25% dos dados referentes aos vinhos tintos, antes que o Montanha conseguisse exterminar as conexões dos servidores. \n",
    "\n",
    "O Sr.Donald Shelby aproximou-se para falar com você sobre as políticas da empresa, criadas por sua esposa, que dispunham sobre o bem estar, ambiente não tóxico, agregação dos \"colaboradores\" ~pseudo escravos~ como familiares, dentre outros ideais da mesma seara. Em seguida incorporou o espírito de Don Corleone e proferiu uma de suas máximas ao falar \"Política é saber a hora de puxar o gatilho\".   \n",
    "\n",
    "Uma regra clara da empresa dispõe sobre a impossibilidade de extrair datasets como arquivos e, toda vez que for utilizar os dados no Jupyter Notebook, deve ser realizado uma query no datalake. Ocorre que, 'sem querer querendo', você estava \"desatento\" e salvou os dados para estudos quando estivesse em casa. Nítido que se disse-se que havia copiado quaisquer dados seria torturado, por isso não poderia simplesmente colocá-los de volta no banco e, como não queria morrer, tinha de encontrar vias oblíquas para dirimir a questão. \n",
    "\n",
    "Erick Cartman, analista de infraestrutura, recebeu ordens para recuperar os dados a qualquer custo e, caso falhasse, seria devidamente penalizado ~executado~. Desolado, regado a fanta uva, com palavras arrastadas e chiadas, Erick lhe pediu ajuda. Com muita pena, pegou seu disquete que continha a cópia dos dados e o entregou, pedindo extrema confidencialidade.\n",
    "\n",
    "Para sua surpresa, após ter a vida salva, receber aumentos salariais e bonificações, Erick te chantageou. \"Agora pediram para eu analisar os logs do firewall que contém informações de acesso a servidores e descobrir os possíveis culpados. Eu não sei fazer isso não, 'ocê tá LOUKO'. Dá teus pulos aí se não eu te conto que você copia dados da empresa!!!\"\n",
    "\n",
    "Conhecedor de diversas técnicas para detecção de outliers, se lembrou de uma que já tinha experiência: Isolation Forest. \n",
    "\n",
    "1- Descubra o nome do responsável pelo o ataque.\n",
    "\n",
    "**ps**: Recentemente houve um estudo estatístico que comprovou que existe um fator de risco em relação aos horários de acesso, são eles:  \n",
    "\n",
    "Entre 09:00 às 12:00 o risco varia entre 0-10%\n",
    "\n",
    "Entre 12:00 às 14:00 o risco varia entre 5-10%\n",
    "\n",
    "Entre 14:00 às 19:00 o risco varia entre 0-10%\n",
    "\n",
    "Entre 19:00 às 21:00 o risco varia entre 20-30%\n",
    "\n",
    "Entre 21:00 às 23:00 o risco varia entre 40-50%\n",
    "\n",
    "Entre 00:00 às 02:00 o risco varia entre 60-80%\n",
    "\n",
    "Entre 02:00 às 06:00 o risco varia entre 80-100%\n",
    "\n",
    "Entre 06:00 às 09:00 o risco varia entre 30-40%\n",
    "\n",
    "**<u>Esse fator pode ser recriado usando o método 'random.uniform', com 'seed' = 64.</u>**"
   ]
  },
  {
   "cell_type": "code",
   "execution_count": 87,
   "metadata": {},
   "outputs": [],
   "source": [
    "from sklearn.ensemble import IsolationForest\n",
    "from sklearn.preprocessing import LabelEncoder"
   ]
  },
  {
   "cell_type": "code",
   "execution_count": 88,
   "metadata": {},
   "outputs": [],
   "source": [
    "# Criar uma coluna com o horário em formato decimal (ex: 14.5 para 14:30)\n",
    "df[\"hora_decimal\"] = df[\"H\"] + df[\"M\"]/60 + df[\"S\"]/3600"
   ]
  },
  {
   "cell_type": "code",
   "execution_count": 89,
   "metadata": {},
   "outputs": [],
   "source": [
    "import random\n",
    "random.seed(64)\n",
    "\n",
    "def risco_por_hora(hora):\n",
    "    if 9 <= hora < 12:\n",
    "        return random.uniform(0, 0.10)\n",
    "    elif 12 <= hora < 14:\n",
    "        return random.uniform(0.05, 0.10)\n",
    "    elif 14 <= hora < 19:\n",
    "        return random.uniform(0, 0.10)\n",
    "    elif 19 <= hora < 21:\n",
    "        return random.uniform(0.20, 0.30)\n",
    "    elif 21 <= hora < 23:\n",
    "        return random.uniform(0.40, 0.50)\n",
    "    elif 0 <= hora < 2:\n",
    "        return random.uniform(0.60, 0.80)\n",
    "    elif 2 <= hora < 6:\n",
    "        return random.uniform(0.80, 1.00)\n",
    "    elif 6 <= hora < 9:\n",
    "        return random.uniform(0.30, 0.40)\n",
    "    else:\n",
    "        return 0\n",
    "\n",
    "df[\"risco_horario\"] = df[\"H\"].apply(risco_por_hora)\n"
   ]
  },
  {
   "cell_type": "code",
   "execution_count": 90,
   "metadata": {},
   "outputs": [],
   "source": [
    "le_nome = LabelEncoder()\n",
    "le_maquina = LabelEncoder()\n",
    "le_ip = LabelEncoder()\n",
    "\n",
    "df[\"Nome_cod\"] = le_nome.fit_transform(df[\"Nome\"])\n",
    "df[\"Maquina_cod\"] = le_maquina.fit_transform(df[\"Maquina\"])\n",
    "df[\"IP_cod\"] = le_ip.fit_transform(df[\"IP\"])\n"
   ]
  },
  {
   "cell_type": "code",
   "execution_count": 91,
   "metadata": {},
   "outputs": [],
   "source": [
    "X = df[[\"hora_decimal\", \"risco_horario\", \"Nome_cod\", \"Maquina_cod\", \"IP_cod\"]]\n",
    "\n",
    "iso = IsolationForest(contamination=0.02, random_state=42)\n",
    "df[\"anomaly\"] = iso.fit_predict(X)\n"
   ]
  },
  {
   "cell_type": "code",
   "execution_count": 92,
   "metadata": {},
   "outputs": [
    {
     "name": "stdout",
     "output_type": "stream",
     "text": [
      "Responsável provável pelo ataque: mutley@empresax.COM.BR\n"
     ]
    }
   ],
   "source": [
    "suspeitos = df[df[\"anomaly\"] == -1]\n",
    "responsavel = suspeitos[\"Nome\"].value_counts().idxmax()\n",
    "\n",
    "print(\"Responsável provável pelo ataque:\", responsavel)\n"
   ]
  },
  {
   "cell_type": "code",
   "execution_count": 93,
   "metadata": {},
   "outputs": [
    {
     "data": {
      "image/png": "[encoded data removed]",
      "text/plain": [
       "<Figure size 1000x500 with 1 Axes>"
      ]
     },
     "metadata": {},
     "output_type": "display_data"
    }
   ],
   "source": [
    "import matplotlib.pyplot as plt\n",
    "\n",
    "plt.figure(figsize=(10,5))\n",
    "plt.scatter(df[\"hora_decimal\"], df[\"risco_horario\"], c=df[\"anomaly\"], cmap=\"coolwarm\", s=20)\n",
    "plt.xlabel(\"Hora do dia\")\n",
    "plt.ylabel(\"Risco horário\")\n",
    "plt.title(\"Detecção de acessos suspeitos (Isolation Forest)\")\n",
    "plt.show()\n"
   ]
  }
 ],
 "metadata": {
  "colab": {
   "collapsed_sections": [],
   "name": "Copy of Trabalho Final - Deep Learning.ipynb",
   "provenance": [
    {
     "file_id": "1U1wMksgxY78Qu8izaZCT7e9n8lBz2EUk",
     "timestamp": 1648951582017
    }
   ]
  },
  "kernelspec": {
   "display_name": "Python [conda env:base] *",
   "language": "python",
   "name": "conda-base-py"
  },
  "language_info": {
   "codemirror_mode": {
    "name": "ipython",
    "version": 3
   },
   "file_extension": ".py",
   "mimetype": "text/x-python",
   "name": "python",
   "nbconvert_exporter": "python",
   "pygments_lexer": "ipython3",
   "version": "3.13.5"
  }
 },
 "nbformat": 4,
 "nbformat_minor": 4
}
